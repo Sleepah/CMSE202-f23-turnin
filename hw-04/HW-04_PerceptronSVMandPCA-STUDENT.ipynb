{
 "cells": [
  {
   "cell_type": "markdown",
   "metadata": {},
   "source": [
    "# Homework Assignment 4\n",
    "\n",
    "## Using the Perceptron, SVMs, and PCA with sonar data"
   ]
  },
  {
   "cell_type": "markdown",
   "metadata": {},
   "source": [
    "### <p style=\"text-align: right;\"> &#9989; Nick Sleeper\n",
    "### <p style=\"text-align: right;\"> &#9989; Sleepah"
   ]
  },
  {
   "cell_type": "markdown",
   "metadata": {},
   "source": [
    "<img src=\"https://images.squarespace-cdn.com/content/v1/5497331ae4b0148a6141bd47/1533488464157-AYYS0QO7ZW0KPGOT6XRQ/underwater-sea-mine-danger-weapon-deadly-naval-ocean-sea_bpocqo-8__F0000.png?format=1500w\" width=400px align=\"right\" style=\"margin-left: 20px\" alt=\"Underwater naval mines\">\n",
    "\n",
    "### Goals for this homework assignment\n",
    "\n",
    "By the end of this assignment, you should be able to:\n",
    "* Use `git` and the branching functionality to track your work and turn in your assignment\n",
    "* Read in data and prepare it for modeling\n",
    "* Build, fit, and evaluate an SVC model of data\n",
    "* Use PCA to reduce the number of important features\n",
    "* Build, fit, and evaluate an SVC model of PCA-transformed data\n",
    "* Systematically investigate the effects of the number of PCA components on an SVC model of data\n",
    "\n",
    "### Assignment instructions:\n",
    "\n",
    "Work through the following assignment, making sure to follow all of the directions and answer all of the questions.\n",
    "\n",
    "There are **59 points** possible on this assignment. Point values for each part are included in the section headers.\n",
    "\n",
    "This assignment is **due by 11:59 pm on Friday, December 1. It should be pushed to your repo (see Part 1) AND submitted to D2L**. \n",
    "\n",
    "#### Imports\n",
    "\n",
    "It's useful to put all of the imports you need for this assignment in one place. Read through the assignment to figure out which imports you'll need or add them here as you go."
   ]
  },
  {
   "cell_type": "code",
   "execution_count": 2,
   "metadata": {},
   "outputs": [],
   "source": [
    "import pandas as pd\n",
    "import numpy as np\n",
    "from sklearn.model_selection import train_test_split, GridSearchCV\n",
    "from sklearn.svm import SVC\n",
    "from sklearn.metrics import confusion_matrix, classification_report\n",
    "from sklearn.decomposition import PCA\n",
    "import matplotlib.pyplot as plt"
   ]
  },
  {
   "cell_type": "markdown",
   "metadata": {},
   "source": [
    "---\n",
    "## Part 1: Git Repo Management and Branching (6 points)\n",
    "\n",
    "For this assignment, you're going to add it to the `cmse202-f23-turnin` repository you created in class so that you can track your progress on the assignment and preserve the final version that you turn in. In order to do this you need to\n",
    "\n",
    "**&#9989; Do the following**:\n",
    "\n",
    "1. Navigate to your `cmse202-f23-turnin` **local** repository and create a new directory called `hw-04`\n",
    "\n",
    "2. Move this notebook into that **new directory** in your repository, but **do not** add or commit it to your repository yet.\n",
    "\n",
    "3. Create a **new branch** called `hw04_branch` (The Day 16 PCA and ICA content has information on how to do this).\n",
    "\n",
    "4. \"Check out\" the new branch (so that you'll be working on that branch). \n",
    "\n",
    "5. Double check to make sure you are actually on that branch.\n",
    "\n",
    "6. Once you're certain you're working on your new branch, add this notebook to your repository, then make a commit and push it to GitHub. You may need to use `git push origin hw04_branch` to push your new branch to GitHub.\n",
    "\n",
    "Finally, &#9989; **Do this**: Before you move on, put the command that your instructor should run to clone your repository in the markdown cell below."
   ]
  },
  {
   "cell_type": "markdown",
   "metadata": {},
   "source": [
    "```bash\n",
    "git clone https://github.com/Sleepah/cmse202-f23-turnin.git\n",
    "```"
   ]
  },
  {
   "cell_type": "markdown",
   "metadata": {},
   "source": [
    "**Important**: Double check you've added your Professor and your TA as collaborators to your \"turnin\" repository (you should have done this in the previous homework assignment).\n",
    "\n",
    "**Also important**: Make sure that the version of this notebook that you are working on is the same one that you just added to your repository! If you are working on a different copy of the notebook, **none of your changes will be tracked**!\n",
    "\n",
    "If everything went as intended, the file should now show up on your GitHub account in the \"`cmse202-f23-turnin`\" repository inside the `hw-04` directory that you just created within the new branch `hw04_branch`.\n",
    "\n",
    "Periodically, **you'll be asked to commit your changes to the repository and push them to the remote GitHub location**. Of course, you can always commit your changes more often than that, if you wish.  It can be good to get into a habit of committing your changes any time you make a significant modification, or when you stop working on the project for a bit.\n"
   ]
  },
  {
   "cell_type": "markdown",
   "metadata": {},
   "source": [
    "---\n",
    "<a id=\"loading\"></a>\n",
    "## 2. Loading a the dataset: Sonar data measurements (7 points)\n",
    "\n",
    "You may or may not have had a chance to experiment with the sonar dataset provided in the Day 19 ICA extension assignment, but it's another common dataset used for testing out **binary classifiers**.\n",
    "\n",
    "Since the goal for this assignment is to practice using the Perceptron classifier, SVMs, and PCA tools we've covered in class, we'll going to use this relatively simple dataset and avoid any complicated data wrangling headaches!\n",
    " \n",
    "#### The data\n",
    "\n",
    "The sonar dataset is pretty straight forward, but you'll need to download the data and give yourself some time to get familiar with it.\n",
    "\n",
    "**&#9989; Do This:**  To get started, **you'll need to download the following file**:\n",
    "\n",
    "`https://raw.githubusercontent.com/msu-cmse-courses/cmse202-supplemental-data/main/data/sonar.csv`\n",
    "\n",
    "Once you've downloaded the data, **open the files using a text browser or other tool on your computer and take a look at the data to get a sense for the information it contains.** Make sure you take a moment to read the [UC Irvine Machine Learning Repository page](http://archive.ics.uci.edu/dataset/151/connectionist+bench+sonar+mines+vs+rocks) to understand exactly what is in this dataset, but essentially is a collection of sonar measurements of rocks and \"mines\" (metal cynlinders). "
   ]
  },
  {
   "cell_type": "markdown",
   "metadata": {},
   "source": [
    "**&#9989; Question 2.0 (2 points):** In your own words, what is the information contains in the sonar dataset? What does each column represent? What are the current labels in the dataset? Are they numeric or string format? What are the possible values for the labels?"
   ]
  },
  {
   "cell_type": "markdown",
   "metadata": {},
   "source": [
    "<font size=+3>&#9998;</font> The Sonar dataset contains data from sonar signals used to differentiate between rocks and mines. Each of the 60 attributes represents different energy levels measured by the sonar at various angles and conditions. The dataset includes a Class column, which is the label for each observation. These labels are in string format. There are two possible values for the labels: 'Rock' and 'Mine'."
   ]
  },
  {
   "cell_type": "markdown",
   "metadata": {},
   "source": [
    "### 2.1 Load the data\n",
    "\n",
    "**&#9989; Task 2.1 (1 point):** Read the ```sonar.csv``` file into your notebook. Perhaps unsurprisingly, we're going to use \"Class\" column as the classes that we'll be trying to predict with our classification model.\n",
    "\n",
    "Once you've loaded in the data, **display the DataFrame to make sure it looks reasonable**. You should have **61 columns** and **208 rows**."
   ]
  },
  {
   "cell_type": "code",
   "execution_count": 3,
   "metadata": {},
   "outputs": [
    {
     "name": "stdout",
     "output_type": "stream",
     "text": [
      "     attribute_1  attribute_2  attribute_3  attribute_4  attribute_5  \\\n",
      "0         0.0200       0.0371       0.0428       0.0207       0.0954   \n",
      "1         0.0453       0.0523       0.0843       0.0689       0.1183   \n",
      "2         0.0262       0.0582       0.1099       0.1083       0.0974   \n",
      "3         0.0100       0.0171       0.0623       0.0205       0.0205   \n",
      "4         0.0762       0.0666       0.0481       0.0394       0.0590   \n",
      "..           ...          ...          ...          ...          ...   \n",
      "203       0.0187       0.0346       0.0168       0.0177       0.0393   \n",
      "204       0.0323       0.0101       0.0298       0.0564       0.0760   \n",
      "205       0.0522       0.0437       0.0180       0.0292       0.0351   \n",
      "206       0.0303       0.0353       0.0490       0.0608       0.0167   \n",
      "207       0.0260       0.0363       0.0136       0.0272       0.0214   \n",
      "\n",
      "     attribute_6  attribute_7  attribute_8  attribute_9  attribute_10  ...  \\\n",
      "0         0.0986       0.1539       0.1601       0.3109        0.2111  ...   \n",
      "1         0.2583       0.2156       0.3481       0.3337        0.2872  ...   \n",
      "2         0.2280       0.2431       0.3771       0.5598        0.6194  ...   \n",
      "3         0.0368       0.1098       0.1276       0.0598        0.1264  ...   \n",
      "4         0.0649       0.1209       0.2467       0.3564        0.4459  ...   \n",
      "..           ...          ...          ...          ...           ...  ...   \n",
      "203       0.1630       0.2028       0.1694       0.2328        0.2684  ...   \n",
      "204       0.0958       0.0990       0.1018       0.1030        0.2154  ...   \n",
      "205       0.1171       0.1257       0.1178       0.1258        0.2529  ...   \n",
      "206       0.1354       0.1465       0.1123       0.1945        0.2354  ...   \n",
      "207       0.0338       0.0655       0.1400       0.1843        0.2354  ...   \n",
      "\n",
      "     attribute_52  attribute_53  attribute_54  attribute_55  attribute_56  \\\n",
      "0          0.0027        0.0065        0.0159        0.0072        0.0167   \n",
      "1          0.0084        0.0089        0.0048        0.0094        0.0191   \n",
      "2          0.0232        0.0166        0.0095        0.0180        0.0244   \n",
      "3          0.0121        0.0036        0.0150        0.0085        0.0073   \n",
      "4          0.0031        0.0054        0.0105        0.0110        0.0015   \n",
      "..            ...           ...           ...           ...           ...   \n",
      "203        0.0116        0.0098        0.0199        0.0033        0.0101   \n",
      "204        0.0061        0.0093        0.0135        0.0063        0.0063   \n",
      "205        0.0160        0.0029        0.0051        0.0062        0.0089   \n",
      "206        0.0086        0.0046        0.0126        0.0036        0.0035   \n",
      "207        0.0146        0.0129        0.0047        0.0039        0.0061   \n",
      "\n",
      "     attribute_57  attribute_58  attribute_59  attribute_60  Class  \n",
      "0          0.0180        0.0084        0.0090        0.0032   Rock  \n",
      "1          0.0140        0.0049        0.0052        0.0044   Rock  \n",
      "2          0.0316        0.0164        0.0095        0.0078   Rock  \n",
      "3          0.0050        0.0044        0.0040        0.0117   Rock  \n",
      "4          0.0072        0.0048        0.0107        0.0094   Rock  \n",
      "..            ...           ...           ...           ...    ...  \n",
      "203        0.0065        0.0115        0.0193        0.0157   Mine  \n",
      "204        0.0034        0.0032        0.0062        0.0067   Mine  \n",
      "205        0.0140        0.0138        0.0077        0.0031   Mine  \n",
      "206        0.0034        0.0079        0.0036        0.0048   Mine  \n",
      "207        0.0040        0.0036        0.0061        0.0115   Mine  \n",
      "\n",
      "[208 rows x 61 columns]\n"
     ]
    }
   ],
   "source": [
    "sonar_data = pd.read_csv('https://raw.githubusercontent.com/msu-cmse-courses/cmse202-supplemental-data/main/data/sonar.csv')\n",
    "print(sonar_data)"
   ]
  },
  {
   "cell_type": "markdown",
   "metadata": {},
   "source": [
    "### 2.2 Relabeling the classes\n",
    "\n",
    "To simplify the process of modeling the sonar data, we should convert the class labels from strings to integers. For example, rather than `Rock`, we can consider this to be class \"`1`\".\n",
    "\n",
    "**&#9989; Task 2.2 (2 points):** Replace all of the strings in your \"Class\" column with integers based on the following:\n",
    "\n",
    "| original label | replaced label |\n",
    "| -------- | -------- |\n",
    "| Rock | 1 |\n",
    "| Mine | 0 |\n",
    "\n",
    "Once you've replaced the labels, display your DataFrame and confirm that it looks correct."
   ]
  },
  {
   "cell_type": "code",
   "execution_count": 4,
   "metadata": {},
   "outputs": [
    {
     "name": "stdout",
     "output_type": "stream",
     "text": [
      "     attribute_1  attribute_2  attribute_3  attribute_4  attribute_5  \\\n",
      "0         0.0200       0.0371       0.0428       0.0207       0.0954   \n",
      "1         0.0453       0.0523       0.0843       0.0689       0.1183   \n",
      "2         0.0262       0.0582       0.1099       0.1083       0.0974   \n",
      "3         0.0100       0.0171       0.0623       0.0205       0.0205   \n",
      "4         0.0762       0.0666       0.0481       0.0394       0.0590   \n",
      "..           ...          ...          ...          ...          ...   \n",
      "203       0.0187       0.0346       0.0168       0.0177       0.0393   \n",
      "204       0.0323       0.0101       0.0298       0.0564       0.0760   \n",
      "205       0.0522       0.0437       0.0180       0.0292       0.0351   \n",
      "206       0.0303       0.0353       0.0490       0.0608       0.0167   \n",
      "207       0.0260       0.0363       0.0136       0.0272       0.0214   \n",
      "\n",
      "     attribute_6  attribute_7  attribute_8  attribute_9  attribute_10  ...  \\\n",
      "0         0.0986       0.1539       0.1601       0.3109        0.2111  ...   \n",
      "1         0.2583       0.2156       0.3481       0.3337        0.2872  ...   \n",
      "2         0.2280       0.2431       0.3771       0.5598        0.6194  ...   \n",
      "3         0.0368       0.1098       0.1276       0.0598        0.1264  ...   \n",
      "4         0.0649       0.1209       0.2467       0.3564        0.4459  ...   \n",
      "..           ...          ...          ...          ...           ...  ...   \n",
      "203       0.1630       0.2028       0.1694       0.2328        0.2684  ...   \n",
      "204       0.0958       0.0990       0.1018       0.1030        0.2154  ...   \n",
      "205       0.1171       0.1257       0.1178       0.1258        0.2529  ...   \n",
      "206       0.1354       0.1465       0.1123       0.1945        0.2354  ...   \n",
      "207       0.0338       0.0655       0.1400       0.1843        0.2354  ...   \n",
      "\n",
      "     attribute_52  attribute_53  attribute_54  attribute_55  attribute_56  \\\n",
      "0          0.0027        0.0065        0.0159        0.0072        0.0167   \n",
      "1          0.0084        0.0089        0.0048        0.0094        0.0191   \n",
      "2          0.0232        0.0166        0.0095        0.0180        0.0244   \n",
      "3          0.0121        0.0036        0.0150        0.0085        0.0073   \n",
      "4          0.0031        0.0054        0.0105        0.0110        0.0015   \n",
      "..            ...           ...           ...           ...           ...   \n",
      "203        0.0116        0.0098        0.0199        0.0033        0.0101   \n",
      "204        0.0061        0.0093        0.0135        0.0063        0.0063   \n",
      "205        0.0160        0.0029        0.0051        0.0062        0.0089   \n",
      "206        0.0086        0.0046        0.0126        0.0036        0.0035   \n",
      "207        0.0146        0.0129        0.0047        0.0039        0.0061   \n",
      "\n",
      "     attribute_57  attribute_58  attribute_59  attribute_60  Class  \n",
      "0          0.0180        0.0084        0.0090        0.0032      1  \n",
      "1          0.0140        0.0049        0.0052        0.0044      1  \n",
      "2          0.0316        0.0164        0.0095        0.0078      1  \n",
      "3          0.0050        0.0044        0.0040        0.0117      1  \n",
      "4          0.0072        0.0048        0.0107        0.0094      1  \n",
      "..            ...           ...           ...           ...    ...  \n",
      "203        0.0065        0.0115        0.0193        0.0157      0  \n",
      "204        0.0034        0.0032        0.0062        0.0067      0  \n",
      "205        0.0140        0.0138        0.0077        0.0031      0  \n",
      "206        0.0034        0.0079        0.0036        0.0048      0  \n",
      "207        0.0040        0.0036        0.0061        0.0115      0  \n",
      "\n",
      "[208 rows x 61 columns]\n"
     ]
    }
   ],
   "source": [
    "sonar_data['Class'] = sonar_data['Class'].replace({'Rock': 1, 'Mine': 0})\n",
    "print(sonar_data)"
   ]
  },
  {
   "cell_type": "markdown",
   "metadata": {},
   "source": [
    "### 2.3 Separating the \"features\" from the \"labels\"\n",
    "\n",
    "As we've seen when working with `sklearn` it can be much easier to work with the data if we have separate variables that store the features and the labels.\n",
    "\n",
    "**&#9989; Task 2.3 (1 point):** Split your DataFrame so that you have two separate DataFrames, one called `features`, which contains all of the sonar features, and one called `labels`, which contains all of the *new* sonar integer labels you just created. **Display both of these new DataFrames to make sure they look correct.**"
   ]
  },
  {
   "cell_type": "code",
   "execution_count": 6,
   "metadata": {},
   "outputs": [
    {
     "name": "stdout",
     "output_type": "stream",
     "text": [
      "Features DataFrame:\n",
      "   attribute_1  attribute_2  attribute_3  attribute_4  attribute_5  \\\n",
      "0       0.0200       0.0371       0.0428       0.0207       0.0954   \n",
      "1       0.0453       0.0523       0.0843       0.0689       0.1183   \n",
      "2       0.0262       0.0582       0.1099       0.1083       0.0974   \n",
      "3       0.0100       0.0171       0.0623       0.0205       0.0205   \n",
      "4       0.0762       0.0666       0.0481       0.0394       0.0590   \n",
      "\n",
      "   attribute_6  attribute_7  attribute_8  attribute_9  attribute_10  ...  \\\n",
      "0       0.0986       0.1539       0.1601       0.3109        0.2111  ...   \n",
      "1       0.2583       0.2156       0.3481       0.3337        0.2872  ...   \n",
      "2       0.2280       0.2431       0.3771       0.5598        0.6194  ...   \n",
      "3       0.0368       0.1098       0.1276       0.0598        0.1264  ...   \n",
      "4       0.0649       0.1209       0.2467       0.3564        0.4459  ...   \n",
      "\n",
      "   attribute_51  attribute_52  attribute_53  attribute_54  attribute_55  \\\n",
      "0        0.0232        0.0027        0.0065        0.0159        0.0072   \n",
      "1        0.0125        0.0084        0.0089        0.0048        0.0094   \n",
      "2        0.0033        0.0232        0.0166        0.0095        0.0180   \n",
      "3        0.0241        0.0121        0.0036        0.0150        0.0085   \n",
      "4        0.0156        0.0031        0.0054        0.0105        0.0110   \n",
      "\n",
      "   attribute_56  attribute_57  attribute_58  attribute_59  attribute_60  \n",
      "0        0.0167        0.0180        0.0084        0.0090        0.0032  \n",
      "1        0.0191        0.0140        0.0049        0.0052        0.0044  \n",
      "2        0.0244        0.0316        0.0164        0.0095        0.0078  \n",
      "3        0.0073        0.0050        0.0044        0.0040        0.0117  \n",
      "4        0.0015        0.0072        0.0048        0.0107        0.0094  \n",
      "\n",
      "[5 rows x 60 columns]\n",
      "\n",
      "Labels DataFrame:\n",
      "0    1\n",
      "1    1\n",
      "2    1\n",
      "3    1\n",
      "4    1\n",
      "Name: Class, dtype: int64\n"
     ]
    }
   ],
   "source": [
    "features = sonar_data.drop('Class', axis=1)\n",
    "labels = sonar_data['Class']\n",
    "\n",
    "print(\"Features DataFrame:\")\n",
    "print(features.head())\n",
    "\n",
    "print(\"\\nLabels DataFrame:\")\n",
    "print(labels.head())"
   ]
  },
  {
   "cell_type": "markdown",
   "metadata": {},
   "source": [
    "&#9989; **Question 2.1 (1 point):** How balanced is your set of sonar classes? Does it matter for the set of classes to be balanced? Why or why not? (You might need to write a bit of code to figure out how balanced your set of sonar classes is.)"
   ]
  },
  {
   "cell_type": "code",
   "execution_count": 7,
   "metadata": {},
   "outputs": [
    {
     "name": "stdout",
     "output_type": "stream",
     "text": [
      "Class counts:\n",
      "0    111\n",
      "1     97\n",
      "Name: Class, dtype: int64\n",
      "\n",
      "Balance ratio (closer to 1 indicates better balance): 0.87\n"
     ]
    }
   ],
   "source": [
    "class_counts = labels.value_counts()\n",
    "\n",
    "print(\"Class counts:\")\n",
    "print(class_counts)\n",
    "\n",
    "balance = min(class_counts) / max(class_counts)\n",
    "print(f\"\\nBalance ratio (closer to 1 indicates better balance): {balance:.2f}\")"
   ]
  },
  {
   "cell_type": "markdown",
   "metadata": {},
   "source": [
    "<font size=+3>&#9998;</font> The set of sonar classes is pretty balaneced. It's important to have a balanced dataset because it ensures that the model doesn't become biased towards the majority class. If one class significantly outnumbers the other, the model might learn to always predict the majority class, as it would be right most of the time. This can lead to poor performance on the minority class, which is often the more important class to predict accurately. "
   ]
  },
  {
   "cell_type": "markdown",
   "metadata": {},
   "source": [
    "---\n",
    "### &#128721; STOP\n",
    "**Pause to commit your changes to your Git repository!**\n",
    "\n",
    "Take a moment to save your notebook, commit the changes to your Git repository `hw04_branch` using the commit message \"Committing Part 2\", and push the changes to GitHub.\n",
    "\n",
    "---"
   ]
  },
  {
   "cell_type": "markdown",
   "metadata": {},
   "source": [
    "---\n",
    "## 3. Building an SVC model (4 points)\n",
    "\n",
    "Now, to tackle this classification problem, we will use a support vector machine just like we've done previously (e.g. in the **Day 20 and Day 21 assignments**). Of course, we could easily replace this with any `sklearn` classifier we choose, but for now we will just use an SVC with a linear kernel.\n",
    "\n",
    "### 3.1 Splitting the data\n",
    "\n",
    "But first, we need to split our data into training and testing data!\n",
    "\n",
    "**&#9989; Task 3.1 (1 point):** Split your data into a training and testing set with a training set representing 75% of your data. For reproducibility , set the `random_state` argument to `8675309`. Print the lengths to show you have the right number of entries."
   ]
  },
  {
   "cell_type": "code",
   "execution_count": 8,
   "metadata": {},
   "outputs": [
    {
     "name": "stdout",
     "output_type": "stream",
     "text": [
      "Length of Training Set: 156\n",
      "Length of Testing Set: 52\n"
     ]
    }
   ],
   "source": [
    "from sklearn.model_selection import train_test_split\n",
    "\n",
    "X_train, X_test, y_train, y_test = train_test_split(features, labels, test_size=0.25, random_state=8675309)\n",
    "\n",
    "print(\"Length of Training Set:\", len(X_train))\n",
    "print(\"Length of Testing Set:\", len(X_test))"
   ]
  },
  {
   "cell_type": "markdown",
   "metadata": {},
   "source": [
    "### 3.2 Modeling the data and evaluating the fit\n",
    "\n",
    "As you have done this a number of times at this point, we ask you to do most of the analysis for this problem in one cell.\n",
    "\n",
    "**&#9989; Task 3.2 (2 points):** Build a **linear** kernel SVC model with `C=1.0`, fit it to the training set, and use the test features to predict the outcomes. Evaluate the fit using the **confusion matrix** and **classification report**.\n",
    "\n",
    "**First Note:** Double-check the documentation on the confusion matrix because the way `sklearn` outputs false positives and false negatives may be different from what most images on the web indicate.\n",
    "\n",
    "**Second Note:** You should not be performing a \"grid search\" for this model. We're just trying to get a baseline for how well the model performs, but fitting a single SVC model using the `SVC` class from sklearn."
   ]
  },
  {
   "cell_type": "code",
   "execution_count": 9,
   "metadata": {},
   "outputs": [
    {
     "name": "stdout",
     "output_type": "stream",
     "text": [
      "Confusion Matrix:\n",
      "[[24  4]\n",
      " [ 6 18]]\n",
      "\n",
      "Classification Report:\n",
      "              precision    recall  f1-score   support\n",
      "\n",
      "           0       0.80      0.86      0.83        28\n",
      "           1       0.82      0.75      0.78        24\n",
      "\n",
      "    accuracy                           0.81        52\n",
      "   macro avg       0.81      0.80      0.81        52\n",
      "weighted avg       0.81      0.81      0.81        52\n",
      "\n"
     ]
    }
   ],
   "source": [
    "from sklearn.svm import SVC\n",
    "from sklearn.metrics import confusion_matrix, classification_report\n",
    "\n",
    "svc_model = SVC(kernel='linear', C=1.0)\n",
    "svc_model.fit(X_train, y_train)\n",
    "y_pred = svc_model.predict(X_test)\n",
    "\n",
    "conf_matrix = confusion_matrix(y_test, y_pred)\n",
    "print(\"Confusion Matrix:\")\n",
    "print(conf_matrix)\n",
    "\n",
    "class_report = classification_report(y_test, y_pred)\n",
    "print(\"\\nClassification Report:\")\n",
    "print(class_report)"
   ]
  },
  {
   "cell_type": "markdown",
   "metadata": {},
   "source": [
    "&#9989; **Question 3.1 (1 point):** How accurate is your model? What evidence are you using to determine that? How many false positives and false negatives does it predict for each class?"
   ]
  },
  {
   "cell_type": "markdown",
   "metadata": {},
   "source": [
    "The model's accuracy is 0.81, as indicated by the accuracy metric in the classification report. This means that the model correctly predicts the class of the sonar signals 81% of the time.  <br>\n",
    "For Class 0 ('Mine'): <br>\n",
    "False Positives (predicted as Mine but actually Rock): 4 <br>\n",
    "False Negatives (predicted as Rock but actually Mine): 6 <br>\n",
    "\n",
    "For Class 1 ('Rock'): <br>\n",
    "False Positives (predicted as Rock but actually Mine): 6 (inferred as the false negatives for the other class) <br>\n",
    "False Negatives (predicted as Mine but actually Rock): 4 (inferred as the false positives for the other class) <br>"
   ]
  },
  {
   "cell_type": "markdown",
   "metadata": {},
   "source": [
    "---\n",
    "### &#128721; STOP\n",
    "**Pause to commit your changes to your Git repository!**\n",
    "\n",
    "Take a moment to save your notebook, commit the changes to your Git repository `hw04_branch` using the commit message \"Committing Part 3\", and push the changes to GitHub.\n",
    "\n",
    "---"
   ]
  },
  {
   "cell_type": "markdown",
   "metadata": {},
   "source": [
    "---\n",
    "## 4. Finding and using the best hyperparameters (8 points)\n",
    "\n",
    "At this point, we have fit one model and determined it's performance, but is it the best model? We can use `GridSearchCV` to find the best model (given our choices of parameters). Once we do that, we will use that \"best\" model for making predictions. This is similar to what we did when working with the \"digits\" data and the \"faces\" data in the **Day 21 and Day 22 assignments**.\n",
    "\n",
    "**Note:** you would typically rerun this grid search in a production environment to continue to verify the best model, but we are not for the sake of speed.\n",
    "\n",
    "### 4.1 Performing a grid search\n",
    "\n",
    "**&#9989; Task 4.1 (4 points):** Using the following parameters `C` = `0.1`, `1.0`, `10.0`, `100.0`, `1000.0`, `1e4` and `gamma` = `1e-4`, `1e-3`, `0.01`, `0.1`, `1.0`, `10.0` for both a `linear` and `rbf` kernel use `GridSearchCV` with the `SVC()` model to find the best fit parameters. Once, you're run the grid search, print the \"best params\" that the grid search found (*hint*: there's an attribute associated with the GridSearchCV object that stores this information)."
   ]
  },
  {
   "cell_type": "code",
   "execution_count": 10,
   "metadata": {},
   "outputs": [
    {
     "name": "stdout",
     "output_type": "stream",
     "text": [
      "Best parameters found:\n",
      "{'C': 1000.0, 'gamma': 0.1, 'kernel': 'rbf'}\n"
     ]
    }
   ],
   "source": [
    "from sklearn.model_selection import GridSearchCV\n",
    "from sklearn.svm import SVC\n",
    "\n",
    "param_grid = {\n",
    "    'C': [0.1, 1.0, 10.0, 100.0, 1000.0, 1e4],\n",
    "    'gamma': [1e-4, 1e-3, 0.01, 0.1, 1.0, 10.0],\n",
    "    'kernel': ['linear', 'rbf']\n",
    "}\n",
    "\n",
    "grid_search = GridSearchCV(SVC(), param_grid, cv=5)\n",
    "grid_search.fit(X_train, y_train)\n",
    "\n",
    "print(\"Best parameters found:\")\n",
    "print(grid_search.best_params_)"
   ]
  },
  {
   "cell_type": "markdown",
   "metadata": {},
   "source": [
    "&#9989; **Question 4.1 (1 point):** How do the \"best params\" results of the grid search compare to what you used in Part 3? Did the hyper parameter(s) change? What kernel did the grid search determine was the best option? "
   ]
  },
  {
   "cell_type": "markdown",
   "metadata": {},
   "source": [
    "In Part 3, we used a linear kernel SVC model with the default parameter C=1.0.\n",
    "The grid search found that the best performing model uses an RBF (Radial Basis Function) kernel, not a linear kernel. Additionally, the value of C changed significantly, from the default 1.0 to 1000.0.\n",
    "The gamma parameter, which is specific to non-linear kernels like RBF, was found to be best set at 0.1. The grid search suggests that a more complex, non-linear model (with a higher C and the RBF kernel) is better suited for this classification task compared to the simpler linear model used in Part 3."
   ]
  },
  {
   "cell_type": "markdown",
   "metadata": {},
   "source": [
    "### 4.2 Evaluating the best fit model\n",
    "\n",
    "Now that we have found the \"best params\", let's determine how good the fit is.\n",
    "\n",
    "**&#9989; Task 4.2 (2 points):** Use the test features to predict the outcomes for the best model. Evaluate the fit using the **confusion matrix** and **classification report**.\n",
    "\n",
    "**Note:** Double-check the documentation on the confusion matrix because the way `sklearn` outputs false positives and false negatives may be different from what most images on the web indicate."
   ]
  },
  {
   "cell_type": "code",
   "execution_count": 11,
   "metadata": {},
   "outputs": [
    {
     "name": "stdout",
     "output_type": "stream",
     "text": [
      "Confusion Matrix:\n",
      "[[25  3]\n",
      " [ 4 20]]\n",
      "\n",
      "Classification Report:\n",
      "              precision    recall  f1-score   support\n",
      "\n",
      "           0       0.86      0.89      0.88        28\n",
      "           1       0.87      0.83      0.85        24\n",
      "\n",
      "    accuracy                           0.87        52\n",
      "   macro avg       0.87      0.86      0.86        52\n",
      "weighted avg       0.87      0.87      0.87        52\n",
      "\n"
     ]
    }
   ],
   "source": [
    "best_svc_model = SVC(C=1000.0, gamma=0.1, kernel='rbf')\n",
    "best_svc_model.fit(X_train, y_train)\n",
    "y_pred_best = best_svc_model.predict(X_test)\n",
    "\n",
    "conf_matrix_best = confusion_matrix(y_test, y_pred_best)\n",
    "print(\"Confusion Matrix:\")\n",
    "print(conf_matrix_best)\n",
    "\n",
    "class_report_best = classification_report(y_test, y_pred_best)\n",
    "print(\"\\nClassification Report:\")\n",
    "print(class_report_best)"
   ]
  },
  {
   "cell_type": "markdown",
   "metadata": {},
   "source": [
    "&#9989; **Question 4.2 (1 point):** How accurate is this \"best\" model? What evidence are you using to determine that? How many false positives and false negatives does it predict?"
   ]
  },
  {
   "cell_type": "markdown",
   "metadata": {},
   "source": [
    "The overall accuracy of the model is 0.87, as indicated by the accuracy metric in the classification report. <br>\n",
    "For Class 0 ('Mine'): <br>\n",
    "False Positives: 3 (instances where the model incorrectly predicted 'Mine' when it was actually 'Rock') <br>\n",
    "False Negatives: 4 (instances where the model incorrectly predicted 'Rock' when it was actually 'Mine') <br>\n",
    "For Class 1 ('Rock'): <brr>\n",
    "False Positives: 4 (inferred as false negatives for Class 0) <br>\n",
    "False Negatives: 3 (inferred as false positives for Class 0) <br>"
   ]
  },
  {
   "cell_type": "markdown",
   "metadata": {},
   "source": [
    "---\n",
    "### &#128721; STOP\n",
    "**Pause to commit your changes to your Git repository!**\n",
    "\n",
    "Take a moment to save your notebook, commit the changes to your Git repository `hw04_branch` using the commit message \"Committing Part 4\", and push the changes to GitHub.\n",
    "\n",
    "---"
   ]
  },
  {
   "cell_type": "markdown",
   "metadata": {},
   "source": [
    "---\n",
    "## 5. Using Principal Components (10 points)\n",
    "\n",
    "The full model uses all 60 sonar features to predict the results and you likely found that the model is decently accurate using all 60 features, but not perfect. **Could we get the same level of accuracy (or better) using fewer features?** When datasets start to get very large and complex, applying some sort of **feature reduction** method can reduce the computational resources needed to train the model and, in some case actually improve the accuracy.\n",
    "\n",
    "When performing feature reduction, one could simply try to identify which features seem most important and drop the ones that aren't, but performing a Principal Component Analysis (PCA) to determine the features that contribute the most to the model (through their accounted variance) can be more effective. We did this to improve our classification with the \"faces\" dataset in the **Day 22 assignment**."
   ]
  },
  {
   "cell_type": "markdown",
   "metadata": {},
   "source": [
    "### 5.1 Running a Principle Component Analysis (PCA)\n",
    "\n",
    "Since we have 60 total features to start with, let's see how well we can do if only use 5% as many features reduce the feature count to **3** principle components. We'll see how well we can predict the classes of the sonar dataset with just **3 features**!\n",
    "\n",
    "**&#9989; Task 5.1 (3 points):**  Using `PCA()` and the associated `fit()` method, run a principle component analysis on your training features using 3 components. Transform both the test and training features using the result of your PCA. Print the `explained_variance_ratio_`."
   ]
  },
  {
   "cell_type": "code",
   "execution_count": 12,
   "metadata": {},
   "outputs": [
    {
     "name": "stdout",
     "output_type": "stream",
     "text": [
      "Explained variance ratio of each principal component:\n",
      "[0.31300114 0.19870938 0.09952619]\n"
     ]
    }
   ],
   "source": [
    "from sklearn.decomposition import PCA\n",
    "\n",
    "pca = PCA(n_components=3)\n",
    "pca.fit(X_train)\n",
    "\n",
    "X_train_pca = pca.transform(X_train)\n",
    "X_test_pca = pca.transform(X_test)\n",
    "\n",
    "print(\"Explained variance ratio of each principal component:\")\n",
    "print(pca.explained_variance_ratio_)"
   ]
  },
  {
   "cell_type": "markdown",
   "metadata": {},
   "source": [
    "&#9989; **Question 5.1 (1 point):** What is the total explained variance ratio captured by this simple 3-component PCA? (e.g. sum up the explained variance from all 3 components) How well do you think a model with this many feature will perform? Why?"
   ]
  },
  {
   "cell_type": "markdown",
   "metadata": {},
   "source": [
    "The total explained variance ratio is approximately 0.6112, or 61.12%. A PCA that retains 61.12% of the variance might be considered moderately effective. "
   ]
  },
  {
   "cell_type": "markdown",
   "metadata": {},
   "source": [
    "### 5.2 Fit and Evaluate an SVC model\n",
    "\n",
    "Using the PCA transformed features, we need to train and test a new SVC model. You'll want to perform the `GridSearchCV` again since there may a better choice for the kernel and the hyper-parameters.\n",
    "\n",
    "**&#9989; Task 5.2 (2 points):**  Using the PCA transformed training data, build and train an SVC model using the `GridSearchCV` tool to make sure you're using the best kernel and hyper-parameter combination. Predict the classes using the PCA transformed test data. Evaluate the model using the classification report, and the confusion matrix."
   ]
  },
  {
   "cell_type": "code",
   "execution_count": 13,
   "metadata": {},
   "outputs": [
    {
     "name": "stdout",
     "output_type": "stream",
     "text": [
      "Confusion Matrix:\n",
      "[[17 11]\n",
      " [ 6 18]]\n",
      "\n",
      "Classification Report:\n",
      "              precision    recall  f1-score   support\n",
      "\n",
      "           0       0.74      0.61      0.67        28\n",
      "           1       0.62      0.75      0.68        24\n",
      "\n",
      "    accuracy                           0.67        52\n",
      "   macro avg       0.68      0.68      0.67        52\n",
      "weighted avg       0.68      0.67      0.67        52\n",
      "\n"
     ]
    }
   ],
   "source": [
    "param_grid = {\n",
    "    'C': [0.1, 1.0, 10.0, 100.0, 1000.0, 1e4],\n",
    "    'gamma': [1e-4, 1e-3, 0.01, 0.1, 1.0, 10.0],\n",
    "    'kernel': ['linear', 'rbf']\n",
    "}\n",
    "\n",
    "grid_search_pca = GridSearchCV(SVC(), param_grid, cv=5)\n",
    "grid_search_pca.fit(X_train_pca, y_train)\n",
    "\n",
    "y_pred_pca = grid_search_pca.predict(X_test_pca)\n",
    "\n",
    "conf_matrix_pca = confusion_matrix(y_test, y_pred_pca)\n",
    "print(\"Confusion Matrix:\")\n",
    "print(conf_matrix_pca)\n",
    "\n",
    "class_report_pca = classification_report(y_test, y_pred_pca)\n",
    "print(\"\\nClassification Report:\")\n",
    "print(class_report_pca)"
   ]
  },
  {
   "cell_type": "markdown",
   "metadata": {},
   "source": [
    "&#9989; **Question 5.2 (1 point):** How accurate is this model? What evidence are you using to determine that? How many false positives and false negatives does it predict? How does it compare to the full feature model?"
   ]
  },
  {
   "cell_type": "markdown",
   "metadata": {},
   "source": [
    "The full feature model has an accuracy of 0.87 (or 87%). <br>\n",
    "The PCA-based model (with 3 components) has an accuracy of 0.67 (or 67%). <br>\n",
    "n matrix [[25, 3], [4, 20]] indicates 3 false positives and 4 false negatives. <br>\n",
    "For the PCA-based model, the confusion matrix [[17, 11], [6, 18]] indicates 11 false positives and 6 false negatives. <br>\n",
    "The reduction to 3 principal components in the PCA-based model leads to a loss of critical information necessary for classification, which is evident from the reduced accuracy and increased false positives and false negatives."
   ]
  },
  {
   "cell_type": "markdown",
   "metadata": {},
   "source": [
    "### 5.3 Repeat your analysis with more components\n",
    "\n",
    "You probably found that the model with 3 features didn't actually do too bad, which is great given how few features we're using, but it's still not as good as just using all of the feature. Can we do better?\n",
    "\n",
    "What if we increase the number of principle components to **6** (10% of the original feature count)? What happens now?\n",
    "\n",
    "**&#9989; Task 5.3 (2 points):** Repeat your analysis from 5.1 and 5.2 using **6 components** instead. As part of your analysis, **print the total explained variance ratio for both components as well as the sum of these values**."
   ]
  },
  {
   "cell_type": "code",
   "execution_count": 14,
   "metadata": {},
   "outputs": [
    {
     "name": "stdout",
     "output_type": "stream",
     "text": [
      "Explained variance ratio of each of the 6 principal components: [0.31300114 0.19870938 0.09952619 0.06635227 0.05481997 0.04573863]\n",
      "Total explained variance ratio with 6 components: 0.7781475766103321\n",
      "Confusion Matrix with 6 PCA components:\n",
      "[[24  4]\n",
      " [ 5 19]]\n",
      "\n",
      "Classification Report with 6 PCA components:\n",
      "              precision    recall  f1-score   support\n",
      "\n",
      "           0       0.83      0.86      0.84        28\n",
      "           1       0.83      0.79      0.81        24\n",
      "\n",
      "    accuracy                           0.83        52\n",
      "   macro avg       0.83      0.82      0.83        52\n",
      "weighted avg       0.83      0.83      0.83        52\n",
      "\n"
     ]
    }
   ],
   "source": [
    "pca_6 = PCA(n_components=6)\n",
    "X_train_pca_6 = pca_6.fit_transform(X_train)\n",
    "X_test_pca_6 = pca_6.transform(X_test)\n",
    "\n",
    "explained_variance_6 = pca_6.explained_variance_ratio_\n",
    "total_explained_variance_6 = sum(explained_variance_6)\n",
    "print(\"Explained variance ratio of each of the 6 principal components:\", explained_variance_6)\n",
    "print(\"Total explained variance ratio with 6 components:\", total_explained_variance_6)\n",
    "\n",
    "param_grid = {\n",
    "    'C': [0.1, 1.0, 10.0, 100.0, 1000.0, 1e4],\n",
    "    'gamma': [1e-4, 1e-3, 0.01, 0.1, 1.0, 10.0],\n",
    "    'kernel': ['linear', 'rbf']\n",
    "}\n",
    "\n",
    "grid_search_pca_6 = GridSearchCV(SVC(), param_grid, cv=5)\n",
    "grid_search_pca_6.fit(X_train_pca_6, y_train)\n",
    "\n",
    "y_pred_pca_6 = grid_search_pca_6.predict(X_test_pca_6)\n",
    "\n",
    "conf_matrix_pca_6 = confusion_matrix(y_test, y_pred_pca_6)\n",
    "class_report_pca_6 = classification_report(y_test, y_pred_pca_6)\n",
    "print(\"Confusion Matrix with 6 PCA components:\")\n",
    "print(conf_matrix_pca_6)\n",
    "print(\"\\nClassification Report with 6 PCA components:\")\n",
    "print(class_report_pca_6)"
   ]
  },
  {
   "cell_type": "markdown",
   "metadata": {},
   "source": [
    "&#9989; **Question 5.3 (1 point):** What is the total explained variance ratio captured by this PCA? How accurate is this model? What evidence are you using to determine that? How many false positives and false negatives does it predict? How does it compare to the 3 PCA component model? To the full feature model?"
   ]
  },
  {
   "cell_type": "markdown",
   "metadata": {},
   "source": [
    "The total explained variance ratio captured by the 6-component PCA is approximately 0.7781, or 77.81%. The accuracy of the model with 6 PCA components is 0.83 (or 83%), as indicated by the accuracy metric in the classification report. <br>\n",
    "From the confusion matrix [[24, 4], [5, 19]]: <br>\n",
    "False Positives: 4. <br>\n",
    "False Negatives: 5. <br>\n",
    "The 6-component PCA model captures a significant portion of the variance and performs better than the 3-component PCA model, though it slightly underperforms compared to the full feature model."
   ]
  },
  {
   "cell_type": "markdown",
   "metadata": {},
   "source": [
    "---\n",
    "### &#128721; STOP\n",
    "**Pause to commit your changes to your Git repository!**\n",
    "\n",
    "Take a moment to save your notebook, commit the changes to your Git repository `hw04_branch` using the commit message \"Committing Part 5\", and push the changes to GitHub.\n",
    "\n",
    "---"
   ]
  },
  {
   "cell_type": "markdown",
   "metadata": {},
   "source": [
    "---\n",
    "## 6. How well does PCA work? (12 points)\n",
    "\n",
    "Clearly, the number of components we use in our PCA matters. Let's investigate how they matter by systematically building a model for any number of selected components. While this might seem a bit unnecessary for such a relatively small dataset, **this can be very useful for more complex datasets and models!**\n",
    "\n",
    "### 6.1 Accuracy vs. Components\n",
    "\n",
    "To systematically explore how well PCA improves our classification model, we will do this by writing a function that creates the PCA, the SVC model, fits the training data, predict the labels using test data, and returns the accuracy scores and the explained variance ratio. So your function will take as input:\n",
    "* the number of requested PCA components\n",
    "* the training feature data\n",
    "* the testing feature data\n",
    "* the training data labels\n",
    "* the test data labels\n",
    "\n",
    "and it should **return** the accuracy score for an SVC model fit to pca transformed features and the **total** explained variance ratio (i.e. the sum of the explained variance for each component).\n",
    "\n",
    "**&#9989; Task 6.1 (4 points):** Create this function, which you will use in the next section."
   ]
  },
  {
   "cell_type": "code",
   "execution_count": 15,
   "metadata": {},
   "outputs": [
    {
     "name": "stdout",
     "output_type": "stream",
     "text": [
      "Accuracy with 6 PCA components: 0.8076923076923077\n",
      "Total explained variance ratio: 0.7781475766103321\n"
     ]
    }
   ],
   "source": [
    "from sklearn.metrics import accuracy_score\n",
    "\n",
    "def evaluate_pca_svc(n_components, X_train, X_test, y_train, y_test):\n",
    "    pca = PCA(n_components=n_components)\n",
    "\n",
    "    X_train_pca = pca.fit_transform(X_train)\n",
    "    X_test_pca = pca.transform(X_test)\n",
    "    total_variance = sum(pca.explained_variance_ratio_)\n",
    "\n",
    "    svc_model = SVC()\n",
    "    svc_model.fit(X_train_pca, y_train)\n",
    "\n",
    "    y_pred = svc_model.predict(X_test_pca)\n",
    "    accuracy = accuracy_score(y_test, y_pred)\n",
    "\n",
    "    return accuracy, total_variance\n",
    "\n",
    "n_components = 6 \n",
    "accuracy, total_variance = evaluate_pca_svc(n_components, X_train, X_test, y_train, y_test)\n",
    "print(f\"Accuracy with {n_components} PCA components: {accuracy}\")\n",
    "print(f\"Total explained variance ratio: {total_variance}\")"
   ]
  },
  {
   "cell_type": "markdown",
   "metadata": {},
   "source": [
    "### 6.2 Compute accuracies\n",
    "\n",
    "Now that you have created a function that returns the accuracy for a given number of components, we will use that to plot the how the accuracy of your SVC model changes when we increase the number of components used in the PCA.\n",
    "\n",
    "**&#9989; Task 6.2 (2 points):** Going from **1 to 15** components (so up to 25% of the original number of features), use your function above to compute and store (as a list) the accuracy of your models and the total explained variance ratio of your models.\n",
    "\n",
    "**Note**: you'll be running many grid searches to do this, so it might take your computer a bit of time to run all of these models. Please be patient. It shouldn't more than a couple minutes!"
   ]
  },
  {
   "cell_type": "code",
   "execution_count": 16,
   "metadata": {},
   "outputs": [
    {
     "name": "stdout",
     "output_type": "stream",
     "text": [
      "Done for 1 components: Accuracy = 0.4423076923076923, Total Variance = 0.31300113781429206\n",
      "Done for 2 components: Accuracy = 0.5769230769230769, Total Variance = 0.5117105215536755\n",
      "Done for 3 components: Accuracy = 0.5192307692307693, Total Variance = 0.6112367125502631\n",
      "Done for 4 components: Accuracy = 0.7115384615384616, Total Variance = 0.6775889799422824\n",
      "Done for 5 components: Accuracy = 0.7884615384615384, Total Variance = 0.7324089481543798\n",
      "Done for 6 components: Accuracy = 0.8076923076923077, Total Variance = 0.7781475766103321\n",
      "Done for 7 components: Accuracy = 0.8076923076923077, Total Variance = 0.8203652138834162\n",
      "Done for 8 components: Accuracy = 0.8076923076923077, Total Variance = 0.8484382605834149\n",
      "Done for 9 components: Accuracy = 0.8076923076923077, Total Variance = 0.8696963906782788\n",
      "Done for 10 components: Accuracy = 0.8076923076923077, Total Variance = 0.8888524247959354\n",
      "Done for 11 components: Accuracy = 0.7884615384615384, Total Variance = 0.9038130279459387\n",
      "Done for 12 components: Accuracy = 0.7884615384615384, Total Variance = 0.9170500614478456\n",
      "Done for 13 components: Accuracy = 0.8076923076923077, Total Variance = 0.9272125368504955\n",
      "Done for 14 components: Accuracy = 0.8076923076923077, Total Variance = 0.9362924808845435\n",
      "Done for 15 components: Accuracy = 0.7884615384615384, Total Variance = 0.944417044229533\n"
     ]
    }
   ],
   "source": [
    "accuracies = []\n",
    "variance_ratios = []\n",
    "\n",
    "for n in range(1, 16):\n",
    "    accuracy, total_variance = evaluate_pca_svc(n, X_train, X_test, y_train, y_test)\n",
    "    accuracies.append(accuracy)\n",
    "    variance_ratios.append(total_variance)\n",
    "    print(f\"Done for {n} components: Accuracy = {accuracy}, Total Variance = {total_variance}\")"
   ]
  },
  {
   "cell_type": "markdown",
   "metadata": {},
   "source": [
    "### 6.3 Plot accuracy vs number of components\n",
    "\n",
    "Now that we have those numbers, it makes sense to look at the accuracy vs # of components.\n",
    "\n",
    "**&#9989; Task 6.3 (2 points):** Plot the accuracy vs # of components."
   ]
  },
  {
   "cell_type": "code",
   "execution_count": 17,
   "metadata": {},
   "outputs": [
    {
     "data": {
      "image/png": "[encoded data removed]",
      "text/plain": [
       "<Figure size 720x432 with 1 Axes>"
      ]
     },
     "metadata": {
      "needs_background": "light"
     },
     "output_type": "display_data"
    }
   ],
   "source": [
    "n_components_list = list(range(1, 16))  \n",
    "accuracies = [0.4423076923076923, 0.5769230769230769, 0.5192307692307693, \n",
    "              0.7115384615384616, 0.7884615384615384, 0.8076923076923077, \n",
    "              0.8076923076923077, 0.8076923076923077, 0.8076923076923077, \n",
    "              0.8076923076923077, 0.7884615384615384, 0.7884615384615384, \n",
    "              0.8076923076923077, 0.8076923076923077, 0.7884615384615384]\n",
    "\n",
    "plt.figure(figsize=(10, 6))\n",
    "plt.plot(n_components_list, accuracies, marker='o', linestyle='-', color='b')\n",
    "plt.title('Accuracy vs Number of PCA Components')\n",
    "plt.xlabel('Number of PCA Components')\n",
    "plt.ylabel('Accuracy')\n",
    "plt.xticks(n_components_list)\n",
    "plt.grid(True)\n",
    "plt.show()"
   ]
  },
  {
   "cell_type": "markdown",
   "metadata": {},
   "source": [
    "**&#9989; Question 6.1 (1 point):** What do you observe about the accuracy as a function of the number of PCA components you use?"
   ]
  },
  {
   "cell_type": "markdown",
   "metadata": {},
   "source": [
    "As the number of PCA components increases from 1 to 6, there is a notable increase in accuracy. The accuracy starts at approximately 44.23% with just one component and increases to about 80.77% with 6 components. After reaching 6 components, the accuracy appears to plateau. From 6 to 15 components, the accuracy fluctuates slightly but generally remains around 80.77%. There is no significant improvement in accuracy despite increasing the number of components beyond 6. <br>\n",
    "This pattern suggests that most of the important variance in the data that contributes to accurate predictions is captured within the first 6 components. Adding more components beyond this point does not substantially increase the model's predictive power."
   ]
  },
  {
   "cell_type": "markdown",
   "metadata": {},
   "source": [
    "### 6.4 Plot total explained variance vs number of components\n",
    "\n",
    "What if we look at total explained variance as a function of # of components?\n",
    "\n",
    "**&#9989; Task 6.4 (2 points):** Plot the total explained variance ratio vs # of components. "
   ]
  },
  {
   "cell_type": "code",
   "execution_count": 18,
   "metadata": {},
   "outputs": [
    {
     "data": {
      "image/png": "[encoded data removed]",
      "text/plain": [
       "<Figure size 720x432 with 1 Axes>"
      ]
     },
     "metadata": {
      "needs_background": "light"
     },
     "output_type": "display_data"
    }
   ],
   "source": [
    "n_components_list = list(range(1, 16))  \n",
    "total_variance_ratios = [\n",
    "    0.3130011378142915, 0.5117105215536752, 0.6112367125502629,\n",
    "    0.6775889799422823, 0.7324089481543796, 0.7781475766103318,\n",
    "    0.8203652138834159, 0.8484382605834144, 0.8696963906782782,\n",
    "    0.8888524247959348, 0.9038130279459381, 0.9170500614478451,\n",
    "    0.927212536850495, 0.936292480884543, 0.9444170442295324\n",
    "]\n",
    "\n",
    "plt.figure(figsize=(10, 6))\n",
    "plt.plot(n_components_list, total_variance_ratios, marker='o', linestyle='-', color='r')\n",
    "plt.title('Total Explained Variance Ratio vs Number of PCA Components')\n",
    "plt.xlabel('Number of PCA Components')\n",
    "plt.ylabel('Total Explained Variance Ratio')\n",
    "plt.xticks(n_components_list)\n",
    "plt.grid(True)\n",
    "plt.show()"
   ]
  },
  {
   "cell_type": "markdown",
   "metadata": {},
   "source": [
    "**&#9989; Question 6.2 (1 points):** At what point does it seem like we start to have diminishing returns, that is, no major increase in explained variance as we add additional components to the PCA? How does the shape of this curve compare to the one of accuracy from above? Why do you think this is?"
   ]
  },
  {
   "cell_type": "markdown",
   "metadata": {},
   "source": [
    "The point of diminishing returns in explained variance appears to be around the 6th component. Up to this point, each additional component contributes significantly to the total explained variance. However, beyond the 6th component, the increase in total explained variance becomes less substantial with each additional component. <br>\n",
    "The shape of the curve for the total explained variance ratio initially shows a steep increase and then levels off, which is similar to the trend observed in the accuracy curve. In both cases, significant improvements are seen in the initial few components, with a plateau or leveling off beyond a certain point, around 6 components."
   ]
  },
  {
   "cell_type": "markdown",
   "metadata": {},
   "source": [
    "---\n",
    "### &#128721; STOP\n",
    "**Pause to commit your changes to your Git repository!**\n",
    "\n",
    "Take a moment to save your notebook, commit the changes to your Git repository `hw04_branch` using the commit message \"Committing Part 6\", and push the changes to GitHub.\n",
    "\n",
    "---"
   ]
  },
  {
   "cell_type": "markdown",
   "metadata": {},
   "source": [
    "---\n",
    "## 7. Revisiting the Perceptron classifier with code created by generative AI (12 points)\n",
    "\n",
    "After working through the Perceptron classifier in class, one of your classmates decided to try and see if they could get ChatGPT to write a Perceptron classifier that they could test out using the sonar dataset. ChatGPT produced the code provided in the Python script that you can download from here:\n",
    "\n",
    "`https://raw.githubusercontent.com/msu-cmse-courses/cmse202-supplemental-data/main/code_samples/perceptron.py`\n",
    "\n",
    "After reviewing the code, you and your classmate agree that the classifier should work, but your classmate is running into some struggles with figuring out how to pass the data to the code from ChatGPT to train and test the classifier. They've asked you to help them out.\n"
   ]
  },
  {
   "cell_type": "markdown",
   "metadata": {},
   "source": [
    "&#9989; **Do this**: Download the Python script from the URL above and add it to your repository. You should add it to the same directory as this notebook. You should also add and commit it to your repository, making sure it is in your `hw04_branch` branch.\n",
    "\n",
    "Once you've downloaded the file, put it in the right place, and committed it to your repository, you should be able to import it into this notebook and use it to train and test a Perceptron classifier.\n",
    "\n",
    "**Run the following cell to import the code from the Python script.**"
   ]
  },
  {
   "cell_type": "code",
   "execution_count": 21,
   "metadata": {},
   "outputs": [],
   "source": [
    "from perceptron import Perceptron"
   ]
  },
  {
   "cell_type": "markdown",
   "metadata": {},
   "source": [
    "**&#9989; Task 7.1 (5 points):** Create an instance of the `Perceptron` object defined by the class in the Python script using a **learning rate of 0.1** and **10 iterations**. Then, use the `fit()` to train the classifier using the training features and labels from the sonar dataset you've been using in the assignment up to this point. Finally, use the `predict()` method to predict the labels for the test features and print the accuracy score.\n",
    "\n",
    "**Hint**: the script produced by ChatGPT includes some example code that you can use to figure out how to use the `Perceptron` class. It also includes a function for printing the accuracy score that you can use, if you want, or you can use the same one you've been using previously.\n",
    "\n",
    "**Note**: You may run into an error when you try to run the fit method, you'll have to debug this error to get the provided class to work. **You should not need to change the code itself**."
   ]
  },
  {
   "cell_type": "code",
   "execution_count": 28,
   "metadata": {},
   "outputs": [
    {
     "name": "stdout",
     "output_type": "stream",
     "text": [
      "Perceptron classification accuracy: 0.5192307692307693\n"
     ]
    }
   ],
   "source": [
    "def calculate_accuracy(y_true, y_pred):\n",
    "    accuracy = np.sum(y_true == y_pred) / len(y_true)\n",
    "    return accuracy\n",
    "\n",
    "p = Perceptron(learning_rate=0.1, n_iters=10)\n",
    "p.fit(X_train_np, y_train_np)\n",
    "predictions = p.predict(X_test_np)\n",
    "\n",
    "print(\"Perceptron classification accuracy:\", calculate_accuracy(y_test_np, predictions))"
   ]
  },
  {
   "cell_type": "markdown",
   "metadata": {},
   "source": [
    "**&#9989; Question 7.1 (1 points):** How well of job did the Perceptron classifier do on the sonar dataset? How does it compare to the SVC model you built in the previous parts of this assignment? Why do you think this is?"
   ]
  },
  {
   "cell_type": "markdown",
   "metadata": {},
   "source": [
    "An accuracy of 51.92% is relatively low, particularly for a binary classification task. This suggests that the Perceptron classifier is only slightly better than random guessing. The SVC models built in previous parts of the assignment performed significantly better. For instance, the SVC model with the full set of features achieved an accuracy of about 87%, and even the reduced feature models using PCA had higher accuracies (67% with 3 components, and around 83% with 6 components). <br>\n",
    "The Perceptron is a simpler linear model that may struggle with more complex patterns in data. The Sonar dataset might contain non-linear relationships that the Perceptron cannot capture effectively. SVC, especially with an RBF kernel, is capable of handling non-linear relationships in the data, which could explain its significantly better performance. "
   ]
  },
  {
   "cell_type": "markdown",
   "metadata": {},
   "source": [
    "**&#9989; Task 7.2 (5 points):** Come up with a way to do your own \"grid search\" for the Perceptron classifier written by ChatGPT. **Test a range of learning rate values from 0.001 to 1.0. Experiment with 10, 100, and 1000 iterations.**  Try to find the best learning rate and number of iterations for the Perceptron.  What is the best accuracy you can get? Make sure you keep track of the learning rate and number of iterations that correspond to the best accuracy!"
   ]
  },
  {
   "cell_type": "code",
   "execution_count": 29,
   "metadata": {},
   "outputs": [
    {
     "name": "stdout",
     "output_type": "stream",
     "text": [
      "Learning rate: 0.001, Iterations: 10, Accuracy: 0.5192307692307693\n",
      "Learning rate: 0.001, Iterations: 100, Accuracy: 0.7115384615384616\n",
      "Learning rate: 0.001, Iterations: 1000, Accuracy: 0.6538461538461539\n",
      "Learning rate: 0.01, Iterations: 10, Accuracy: 0.5192307692307693\n",
      "Learning rate: 0.01, Iterations: 100, Accuracy: 0.7115384615384616\n",
      "Learning rate: 0.01, Iterations: 1000, Accuracy: 0.6538461538461539\n",
      "Learning rate: 0.1, Iterations: 10, Accuracy: 0.5192307692307693\n",
      "Learning rate: 0.1, Iterations: 100, Accuracy: 0.7115384615384616\n",
      "Learning rate: 0.1, Iterations: 1000, Accuracy: 0.6538461538461539\n",
      "Learning rate: 0.5, Iterations: 10, Accuracy: 0.5192307692307693\n",
      "Learning rate: 0.5, Iterations: 100, Accuracy: 0.7115384615384616\n",
      "Learning rate: 0.5, Iterations: 1000, Accuracy: 0.6538461538461539\n",
      "Learning rate: 1.0, Iterations: 10, Accuracy: 0.5192307692307693\n",
      "Learning rate: 1.0, Iterations: 100, Accuracy: 0.7115384615384616\n",
      "Learning rate: 1.0, Iterations: 1000, Accuracy: 0.6538461538461539\n"
     ]
    }
   ],
   "source": [
    "learning_rates = [0.001, 0.01, 0.1, 0.5, 1.0]\n",
    "iterations_list = [10, 100, 1000]\n",
    "\n",
    "results = {}\n",
    "\n",
    "for lr in learning_rates:\n",
    "    for n_iter in iterations_list:\n",
    "        perceptron = Perceptron(learning_rate=lr, n_iters=n_iter)\n",
    "        perceptron.fit(X_train_np, y_train_np)\n",
    "        \n",
    "        predictions = perceptron.predict(X_test_np)\n",
    "        acc = calculate_accuracy(y_test_np, predictions)\n",
    "        \n",
    "        results[(lr, n_iter)] = acc\n",
    "\n",
    "for params, acc in results.items():\n",
    "    print(f\"Learning rate: {params[0]}, Iterations: {params[1]}, Accuracy: {acc}\")"
   ]
  },
  {
   "cell_type": "markdown",
   "metadata": {},
   "source": [
    "**&#9989; Question 7.2 (1 point):** If you explore the various accuracies you end up getting for the various combinations of learning rate and number of iterations, you'd probably notice that there are a number of combinations that give you the same accuracy. This suggests that perhaps the Perceptron classifier is not finding a \"converged\" solution. As a reminder, the Perceptron classifier will only converge if the data is linearly separable. Do you think the sonar dataset is linearly separable? Why or why not? (You can use some of your experience with the SVC model to help you answer this question.)"
   ]
  },
  {
   "cell_type": "markdown",
   "metadata": {},
   "source": [
    "The Sonar dataset appears not to be linearly separable, as shown by the limited performance of the Perceptron classifier and the superior performance of non-linear models like the SVC with RBF kernel. This suggests that the relationships in the dataset are too complex to be captured by a simple linear model."
   ]
  },
  {
   "cell_type": "markdown",
   "metadata": {},
   "source": [
    "---\n",
    "### &#128721; STOP\n",
    "**Pause to commit your changes to your Git repository!**\n",
    "\n",
    "Take a moment to save your notebook, commit the changes to your Git repository `hw04_branch` using the commit message \"Committing Part 7\", and push the changes to GitHub.\n",
    "\n",
    "---"
   ]
  },
  {
   "cell_type": "markdown",
   "metadata": {},
   "source": [
    "---\n",
    "## Part 1. Continued\n",
    "\n",
    "Now that you've finished your new \"development\" on your 202 turn-in repo, you can merge your work back into your `main` branch.\n",
    "\n",
    "**&#9989; Do the following**:\n",
    "\n",
    "7. Switch back to your `main` branch. \n",
    "8. Merge your `hw04_branch` with your `main` branch. \n",
    "9. Finally, push the changes to GitHub."
   ]
  },
  {
   "cell_type": "markdown",
   "metadata": {},
   "source": [
    "---\n",
    "## Assignment wrap-up¶\n",
    "Please fill out the form that appears when you run the code below. **You must completely fill this out in order to receive credit for the assignment!**"
   ]
  },
  {
   "cell_type": "code",
   "execution_count": null,
   "metadata": {},
   "outputs": [],
   "source": [
    "from IPython.display import HTML\n",
    "HTML(\n",
    "\"\"\"\n",
    "<iframe \n",
    "\tsrc=\"https://forms.office.com/r/mHUMR9xxSH\" \n",
    "\twidth=\"800px\" \n",
    "\theight=\"600px\" \n",
    "\tframeborder=\"0\" \n",
    "\tmarginheight=\"0\" \n",
    "\tmarginwidth=\"0\">\n",
    "\tLoading...\n",
    "</iframe>\n",
    "\"\"\"\n",
    ")"
   ]
  },
  {
   "cell_type": "markdown",
   "metadata": {},
   "source": [
    "### Congratulations, you're done!\n",
    "Submit this assignment by uploading it to the course Desire2Learn web page. Go to the \"Homework Assignments\" folder, find the submission folder for Homework 4, and upload your notebook."
   ]
  },
  {
   "cell_type": "markdown",
   "metadata": {},
   "source": [
    "&#169; Copyright 2023,  Department of Computational Mathematics, Science and Engineering at Michigan State University"
   ]
  }
 ],
 "metadata": {
  "kernelspec": {
   "display_name": "Python 3.8",
   "language": "python",
   "name": "python3"
  },
  "language_info": {
   "codemirror_mode": {
    "name": "ipython",
    "version": 3
   },
   "file_extension": ".py",
   "mimetype": "text/x-python",
   "name": "python",
   "nbconvert_exporter": "python",
   "pygments_lexer": "ipython3",
   "version": "3.8.8"
  }
 },
 "nbformat": 4,
 "nbformat_minor": 4
}
